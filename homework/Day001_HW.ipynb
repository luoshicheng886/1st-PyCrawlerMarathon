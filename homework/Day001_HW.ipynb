{
 "cells": [
  {
   "cell_type": "code",
   "execution_count": 7,
   "metadata": {},
   "outputs": [
    {
     "data": {
      "text/plain": [
       "('Data/Homework.txt', <http.client.HTTPMessage at 0x7f2955d8ec50>)"
      ]
     },
     "execution_count": 7,
     "metadata": {},
     "output_type": "execute_result"
    }
   ],
   "source": [
    "from urllib.request import urlretrieve\n",
    "import os\n",
    "\n",
    "if not os.path.isdir('Data'):\n",
    "    os.mkdir('Data', mode=0o755)\n",
    "urlretrieve('https://www.w3.org/TR/PNG/iso_8859-1.txt', 'Data/Homework.txt')"
   ]
  },
  {
   "cell_type": "code",
   "execution_count": 8,
   "metadata": {},
   "outputs": [
    {
     "name": "stdout",
     "output_type": "stream",
     "text": [
      "Data/Homework.txt exists.\n"
     ]
    }
   ],
   "source": [
    "f_path = 'Data/Homework.txt'\n",
    "if os.path.isfile(f_path):\n",
    "    print('%s exists.' % f_path)\n",
    "else:\n",
    "    print('%s does not exist!' % f_path)"
   ]
  },
  {
   "cell_type": "code",
   "execution_count": 9,
   "metadata": {},
   "outputs": [],
   "source": [
    "w_text = 'Hello world'\n",
    "with open(f_path, 'w') as fp:\n",
    "    fp.write(w_text)"
   ]
  },
  {
   "cell_type": "code",
   "execution_count": 11,
   "metadata": {},
   "outputs": [
    {
     "name": "stdout",
     "output_type": "stream",
     "text": [
      "Text length in Data/Homework.txt is the same as \"Hello world\"\n"
     ]
    }
   ],
   "source": [
    "with open(f_path, 'r') as fp:\n",
    "    r_text = fp.readline()\n",
    "    if len(r_text) == len(w_text):\n",
    "        print('Text length in %s is the same as \\\"%s\\\"' % (f_path, w_text))"
   ]
  },
  {
   "cell_type": "code",
   "execution_count": null,
   "metadata": {},
   "outputs": [],
   "source": []
  }
 ],
 "metadata": {
  "kernelspec": {
   "display_name": "Python 3",
   "language": "python",
   "name": "python3"
  },
  "language_info": {
   "codemirror_mode": {
    "name": "ipython",
    "version": 3
   },
   "file_extension": ".py",
   "mimetype": "text/x-python",
   "name": "python",
   "nbconvert_exporter": "python",
   "pygments_lexer": "ipython3",
   "version": "3.6.9"
  }
 },
 "nbformat": 4,
 "nbformat_minor": 2
}
