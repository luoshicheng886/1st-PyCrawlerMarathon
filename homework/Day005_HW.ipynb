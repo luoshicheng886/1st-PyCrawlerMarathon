{
 "cells": [
  {
   "cell_type": "markdown",
   "metadata": {},
   "source": [
    "# API 資料串接 - 以 Dcard API 實作範例\n",
    "\n",
    "* 了解 Dcard API 使用方式與回傳內容\n",
    "* 撰寫程式存取 API 且解析 JSON 格式資料\n"
   ]
  },
  {
   "cell_type": "markdown",
   "metadata": {},
   "source": [
    "## 作業目標\n",
    "\n",
    "* 請利用 API: https://www.dcard.tw/_api/forums/pet/posts?popular=true 回答下列問題：\n",
    "\n",
    "1. 這個 API 一次會回傳幾筆資料？每一筆資料包含哪些欄位？\n",
    "2. 取出每一筆資料的「標題」、「貼文時間」、「留言人數」、「按讚人數」\n",
    "3. 計算熱門/非熱門文章的「平均留言人數」與「平均按讚人數」"
   ]
  },
  {
   "cell_type": "code",
   "execution_count": 64,
   "metadata": {},
   "outputs": [
    {
     "name": "stdout",
     "output_type": "stream",
     "text": [
      "總共傳回30筆資料\n",
      "dict_keys(['id', 'title', 'excerpt', 'anonymousSchool', 'anonymousDepartment', 'pinned', 'forumId', 'replyId', 'createdAt', 'updatedAt', 'commentCount', 'likeCount', 'withNickname', 'tags', 'topics', 'meta', 'forumName', 'forumAlias', 'gender', 'school', 'replyTitle', 'mediaMeta', 'reactions', 'hidden', 'customStyle', 'isSuspiciousAccount', 'layout', 'withImages', 'withVideos', 'media', 'reportReasonText', 'postAvatar'])\n"
     ]
    }
   ],
   "source": [
    "# 1. 這個 API 一次會回傳幾筆資料？每一筆資料包含哪些欄位？\n",
    "import requests\n",
    "import json\n",
    "\n",
    "req = requests.get('https://www.dcard.tw/_api/forums/pet/posts?popular=true')\n",
    "response = json.loads(req.text)\n",
    "print('總共傳回%d筆資料' % len(response))\n",
    "print(response[0].keys())"
   ]
  },
  {
   "cell_type": "code",
   "execution_count": 65,
   "metadata": {
    "scrolled": true
   },
   "outputs": [
    {
     "name": "stdout",
     "output_type": "stream",
     "text": [
      "標題                       \t貼文時間                    留言人數       按讚人數   \n",
      "把鼠鼠交出來！                  \t2019-12-10T07:09:01.647Z    173        4147   \n",
      "#心情 第一次感受到養寵物的重量可以有多沈重   \t2019-12-10T05:29:22.850Z     14        1051   \n",
      "寵物展之自己的飼料自己賺🐰            \t2019-12-10T12:03:52.215Z     10        348    \n",
      "#貓 #圖 先森你的頭忘在外面了喔        \t2019-12-10T14:48:09.589Z     2         307    \n",
      "92歲 vs 3歲                \t2019-12-10T04:05:49.110Z     12        275    \n",
      "蛋蛋脫皮脫到一半大便了              \t2019-12-10T12:23:07.331Z     19        142    \n",
      "每次都懷疑貓咪的身體裡面裝人的靈魂⋯       \t2019-12-10T06:22:49.320Z     4         104    \n",
      "吃可愛長大的法鬥                 \t2019-12-11T02:48:48.276Z     10         83    \n",
      "嗨 你們長大了！                 \t2019-12-10T09:13:16.437Z     4          60    \n",
      "這貓的眼睛好可愛🥺                \t2019-12-11T04:58:01.541Z     12         51    \n",
      "你的舌頭 ...... 收好好嗎         \t2019-12-10T14:00:20.284Z     3          49    \n",
      "阿嬤說我很醜 要把我丟掉⋯⋯           \t2019-12-11T08:15:01.549Z     10         41    \n",
      "新手養貓：符合每日攝水量的餵食方式        \t2019-12-10T22:35:35.606Z     4          33    \n",
      "可以蓋柴樓嗎🤤🤤                 \t2019-12-11T07:38:34.653Z     12         25    \n",
      "冬天就是要睡一波💤🐰               \t2019-12-10T07:58:56.810Z     5          20    \n",
      "求跟浪貓相處的方式                \t2019-12-11T05:55:37.661Z     10         18    \n",
      "#兔# 也來曬我家鵝子惹~            \t2019-12-10T19:18:31.055Z     5          17    \n",
      "我家的福德正神                  \t2019-12-11T08:57:10.599Z     2          16    \n",
      "尋狗啟示                     \t2019-12-11T03:35:33.092Z     3          15    \n",
      "寵物其實聽的懂人話？               \t2019-12-11T02:13:51.564Z     5          15    \n",
      "我好像選錯時間                  \t2019-12-10T15:41:48.902Z     2          14    \n",
      "大家好我是阿咪🐈🐱#圖多慎入           \t2019-12-10T07:53:23.493Z     0          14    \n",
      "#已找到#哈士奇失蹤 桃園中壢區         \t2019-12-10T10:20:55.310Z     3          13    \n",
      "#發問 家裡貓咪突然性情大變⋯          \t2019-12-11T12:23:34.883Z     7          12    \n",
      "#曬寵 我叫小櫻，不是蔡英文的英。        \t2019-12-11T08:44:15.029Z     6          12    \n",
      "假的夜行性動物                  \t2019-12-10T12:38:55.672Z     4          12    \n",
      "柴柴新成員                    \t2019-12-11T04:43:01.752Z     5          11    \n",
      "尋找鼠鼠                     \t2019-12-11T03:41:29.036Z     0          10    \n",
      "睡覺ㄠ成這樣比較舒服嗎              \t2019-12-10T16:20:15.955Z     2          9     \n",
      "貓咪遺失                     \t2019-12-10T12:21:01.452Z     1          9     \n"
     ]
    }
   ],
   "source": [
    "# 2. 取出每一筆資料的「標題」、「貼文時間」、「留言人數」、「按讚人數」\n",
    "\n",
    "template = '{0:<25}\\t{1:<20} {2:^10} {3:^10}' # column widths: 8, 10, 15, 7, 10\n",
    "print(template.format('標題', '貼文時間', '留言人數', '按讚人數')) # header\n",
    "for res in response:\n",
    "    print(template.format(res['title'], res['createdAt'], res['commentCount'], res['likeCount']))"
   ]
  },
  {
   "cell_type": "code",
   "execution_count": 75,
   "metadata": {},
   "outputs": [
    {
     "name": "stdout",
     "output_type": "stream",
     "text": [
      "熱門文章的\t平均留言人數=11\t均按讚人數=235\n",
      "非熱門文章的\t平均留言人數=2\t平均按讚人數=5\n"
     ]
    }
   ],
   "source": [
    "# 3. 計算熱門/非熱門文章的「平均留言人數」與「平均按讚人數」\n",
    "\n",
    "req = requests.get('https://www.dcard.tw/_api/forums/pet/posts?popular=true')\n",
    "response = json.loads(req.text)\n",
    "coms, likes = 0, 0\n",
    "for res in response:\n",
    "    coms += res['commentCount']\n",
    "    likes += res['likeCount']\n",
    "print('熱門文章的\\t平均留言人數=%d\\t均按讚人數=%d' % (coms / len(response), likes / len(response)))\n",
    "req = requests.get('https://www.dcard.tw/_api/forums/pet/posts')\n",
    "response = json.loads(req.text)\n",
    "coms, likes = 0, 0\n",
    "for res in response:\n",
    "    coms += res['commentCount']\n",
    "    likes += res['likeCount']\n",
    "print('非熱門文章的\\t平均留言人數=%d\\t平均按讚人數=%d' % (coms / len(response), likes / len(response)))"
   ]
  },
  {
   "cell_type": "code",
   "execution_count": null,
   "metadata": {},
   "outputs": [],
   "source": []
  },
  {
   "cell_type": "code",
   "execution_count": null,
   "metadata": {},
   "outputs": [],
   "source": []
  }
 ],
 "metadata": {
  "kernelspec": {
   "display_name": "Python 3",
   "language": "python",
   "name": "python3"
  },
  "language_info": {
   "codemirror_mode": {
    "name": "ipython",
    "version": 3
   },
   "file_extension": ".py",
   "mimetype": "text/x-python",
   "name": "python",
   "nbconvert_exporter": "python",
   "pygments_lexer": "ipython3",
   "version": "3.6.9"
  }
 },
 "nbformat": 4,
 "nbformat_minor": 2
}
