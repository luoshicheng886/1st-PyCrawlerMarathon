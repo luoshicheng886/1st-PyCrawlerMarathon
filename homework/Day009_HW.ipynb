{
 "cells": [
  {
   "cell_type": "markdown",
   "metadata": {},
   "source": [
    "# 作業\n",
    "\n",
    "以正確的副檔名下載網頁中的圖片\n",
    "範例網頁:https://www.ptt.cc/bbs/Beauty/M.1556291059.A.75A.html\n",
    "\n",
    "Note：因為 PTT 會詢問「是否滿 18 歲」，這邊可以用 cookies 繞過\n",
    "\n",
    "`requests.get(URL, cookies={'over18': '1'}`\n"
   ]
  },
  {
   "cell_type": "code",
   "execution_count": 15,
   "metadata": {},
   "outputs": [
    {
     "name": "stdout",
     "output_type": "stream",
     "text": [
      "['Cgb5oo1', 'MgjHY4f', 'yeoRtAs', 'wsauNEW', 'IjiETcs']\n"
     ]
    }
   ],
   "source": [
    "import requests\n",
    "import os\n",
    "from bs4 import BeautifulSoup\n",
    "from PIL import Image\n",
    "\n",
    "url = 'https://www.ptt.cc/bbs/Beauty/M.1556291059.A.75A.html'\n",
    "req = requests.get(url, cookies={'over18': '1'})\n",
    "response = BeautifulSoup(req.text)\n",
    "img_ids = []\n",
    "for div in response.find_all('div', attrs={'class':'richcontent'}):\n",
    "    img_ids.append(div.blockquote['data-id'])\n",
    "print(img_ids)"
   ]
  },
  {
   "cell_type": "code",
   "execution_count": 18,
   "metadata": {},
   "outputs": [
    {
     "name": "stdout",
     "output_type": "stream",
     "text": [
      "Saving image downloads/Cgb5oo1.jpg\n",
      "Saving image downloads/MgjHY4f.jpg\n",
      "Saving image downloads/yeoRtAs.jpg\n",
      "Saving image downloads/wsauNEW.jpg\n",
      "Saving image downloads/IjiETcs.jpg\n"
     ]
    }
   ],
   "source": [
    "# 決定要儲存的資料夾\n",
    "output_dir = 'downloads'\n",
    "\n",
    "# 假如資料夾不存在就新增一個資料夾\n",
    "if not os.path.exists(output_dir):\n",
    "    os.makedirs(output_dir)\n",
    "\n",
    "for id in img_ids:\n",
    "    # 對圖片送出請求\n",
    "    req = requests.get('https://imgur.com/%s' % id + '.jpg', stream=True)\n",
    "    image = Image.open(req.raw)\n",
    "    if image.format == 'JPEG':\n",
    "        path = '%s/%s.jpg' % (output_dir, id)\n",
    "    elif image.format == 'PNG':\n",
    "        path = '%s/%s.png' % (output_dir, id)\n",
    "    print('Saving image %s' % path)\n",
    "    image.save(path)"
   ]
  },
  {
   "cell_type": "code",
   "execution_count": null,
   "metadata": {},
   "outputs": [],
   "source": []
  }
 ],
 "metadata": {
  "kernelspec": {
   "display_name": "Python 3",
   "language": "python",
   "name": "python3"
  },
  "language_info": {
   "codemirror_mode": {
    "name": "ipython",
    "version": 3
   },
   "file_extension": ".py",
   "mimetype": "text/x-python",
   "name": "python",
   "nbconvert_exporter": "python",
   "pygments_lexer": "ipython3",
   "version": "3.6.9"
  }
 },
 "nbformat": 4,
 "nbformat_minor": 2
}
