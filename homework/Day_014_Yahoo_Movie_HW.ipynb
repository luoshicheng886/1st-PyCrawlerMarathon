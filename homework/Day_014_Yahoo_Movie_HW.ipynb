{
 "cells": [
  {
   "cell_type": "markdown",
   "metadata": {},
   "source": [
    "# YAHOO電影爬蟲練習\n",
    "## 練習爬取電影放映資訊。必須逐步獲取電影的代號、放映地區、放映日期後，再送出查詢給伺服器。"
   ]
  },
  {
   "cell_type": "markdown",
   "metadata": {},
   "source": [
    "### 先搜尋全部的電影代號(ID)資訊"
   ]
  },
  {
   "cell_type": "code",
   "execution_count": 105,
   "metadata": {},
   "outputs": [
    {
     "name": "stdout",
     "output_type": "stream",
     "text": [
      "{'復仇母親': '10392', '風暴過後': '10387', '南方車站的聚會': '10380', '祭旗': '10373', '唯你是愛': '10370', '屍控療法': '10367', '黑熊來了': '10357', '唐人街探案2': '10353', '黑計畫': '10351', 'HUMAN LOST人間失格': '10348', '假面騎士劇場版ZI-O Over Quartzer': '10331', '巴黎小情聖': '10329', '每個月來訪一次的月經醬': '10324', '8級警戒': '10323', '為你存在的每一天': '10297', '黑色聖誕節': '10291', '熱氣球飛行家': '10257', '大說謊家': '10122', '特約經紀公司': '10364', '一屍到底番外篇：好萊塢大作戰！': '10352', '花生醬獵鷹的願望': '10340', '女孩要革命': '10339', '我的靈魂是愛做的': '10336', '絕世情歌': '10328', '人間失格：太宰治與他的3個女人': '10287', '抓狂博物館': '10279', '呆萌特務': '10264', '去年聖誕節': '10256', '野蠻遊戲：全面晉級': '10134', '夕霧花園': '10327', '懸案密碼前傳：瓶中信': '10254', '布魯克林孤兒': '10224', '暴走曼哈頓': '10044', '鋒迴路轉': '10258', '賽道狂人': '10097', '麂皮：永不滿足': '10358', '82年生的金智英': '10298', '冰雪奇緣2': '9597', 'Hello World': '10302', '大餓': '10296', '我的情敵是冰箱': '10286', '萬萬沒想到': '10281', '為美好的世界獻上祝福！紅傳說': '10226', '山田孝之的痛苦與榮耀': '10301', '決戰中途島': '10130', '安眠醫生': '10098', '地久天長': '9621', '魔鬼終結者：黑暗宿命': '10067', '陽光普照': '10240', '狙擊獵殺：救援行動': '10284', '雙子殺手': '10017', '黑魔女2': '10262', '電影版 壞傢伙們': '10249', '藍波：最後一滴血': '10205', '屍樂園：髒比雙拼': '10176', '弒婚遊戲': '10171', '108悍將': '10238', '小丑': '9949', '校外打怪教學': '10200', '信用詐欺師JP': '10190', '無間行動': '10155', '星際救援': '10227', '返校': '10109', '唐頓莊園': '10064', '舞孃騙很大': '10199', '花椒之味': '10158', '好小男孩': '9894', '牠 第二章': '10042', '極限逃生': '10174', '你願意嫁給我老公嗎？': '10141', '下半場': '9807', '全面攻佔3：天使救援': '10082', '普羅米亞': '10119', '朵拉與失落的黃金城': '9920', '獅子王': '9116', '玩具總動員4': '9924', '毀滅者': '9405', '庫爾斯克號：深海救援': '9134', '厄夜追緝令': '9589', '苦兒流浪記': '9538', '活個精彩': '9394', '限時好友': '9578', '祝你忌日快樂': '9568', '艾莉塔：戰鬥天使': '8553', '馴龍高手3': '8350', '幸福綠皮書': '9150', '鬼太鼓座': '8467', '一首搖滾上月球': '4887', '錢不夠用2': '3026'}\n"
     ]
    }
   ],
   "source": [
    "import requests\n",
    "import re\n",
    "from bs4 import BeautifulSoup  # 查看目前上映那些電影，並擷取出其ID資訊\n",
    "\n",
    "req = requests.get('https://movies.yahoo.com.tw/movie_intheaters.html')\n",
    "req.encoding = 'utf-8'\n",
    "\n",
    "response = BeautifulSoup(req.text)\n",
    "select = response.find('select', id='sbox_mid')\n",
    "id_dict = {}\n",
    "for option in select.find_all('option'):\n",
    "    if option['value'] != '':\n",
    "        id_dict[option['data-name']] = option['value']\n",
    "print(id_dict)"
   ]
  },
  {
   "cell_type": "markdown",
   "metadata": {},
   "source": [
    "### 指定你有興趣的電影其ID，然後查詢其放映地區資訊。"
   ]
  },
  {
   "cell_type": "code",
   "execution_count": 106,
   "metadata": {},
   "outputs": [],
   "source": [
    "# 參考前一個步驟中擷取到的ID資訊，並指定ID\n",
    "movie_id = id_dict['去年聖誕節']"
   ]
  },
  {
   "cell_type": "code",
   "execution_count": 107,
   "metadata": {},
   "outputs": [
    {
     "name": "stdout",
     "output_type": "stream",
     "text": [
      "{'台北市': 28, '新北市': 8, '桃園': 16, '新竹': 20, '苗栗': 15, '台中': 2, '彰化': 22, '雲林': 19, '嘉義': 21, '台南': 10, '高雄': 17, '宜蘭': 11, '花蓮': 12, '台東': 9, '金門': 24, '澎湖': 23}\n"
     ]
    }
   ],
   "source": [
    "url = 'https://movies.yahoo.com.tw/api/v1/areas_by_movie_theater'\n",
    "payload = {'movie_id': movie_id}\n",
    "headers = {\n",
    "    'mv-authorization': '21835b082e15b91a69b3851eec7b31b82ce82afb'\n",
    "}\n",
    "response = requests.get(url, params=payload, headers=headers)\n",
    "# print(response.json())\n",
    "area_dict = {}\n",
    "for r in response.json():\n",
    "    area_dict[r['title']] = r['area_id']\n",
    "#     print('地區: %s, 代號: %d' % (r['title'], r['area_id']))\n",
    "print(area_dict)"
   ]
  },
  {
   "cell_type": "markdown",
   "metadata": {},
   "source": [
    "### 指定你想要觀看的放映地區，查詢有上映電影的場次日期"
   ]
  },
  {
   "cell_type": "code",
   "execution_count": 108,
   "metadata": {},
   "outputs": [],
   "source": [
    "# 指定放映地區\n",
    "area_id = area_dict['桃園']"
   ]
  },
  {
   "cell_type": "code",
   "execution_count": 109,
   "metadata": {
    "scrolled": true
   },
   "outputs": [
    {
     "name": "stdout",
     "output_type": "stream",
     "text": [
      "播放日期: 2019-12-14\n",
      "播放日期: 2019-12-15\n",
      "播放日期: 2019-12-16\n",
      "播放日期: 2019-12-17\n"
     ]
    }
   ],
   "source": [
    "# 向網站發送請求\n",
    "url = 'https://movies.yahoo.com.tw/movietime_result.html'\n",
    "payload = {'movie_id':movie_id, 'area_id':str(area_id)}\n",
    "req = requests.get(url, params=payload)\n",
    "req.encoding = 'utf-8'\n",
    "\n",
    "# 列印播放日期\n",
    "response = BeautifulSoup(req.text)\n",
    "date_list = []\n",
    "for d in response.find_all('input', attrs={'name':'date', 'type':'radio'}):\n",
    "    try:\n",
    "        date_list.append(d['value'])\n",
    "        print('播放日期: %s' % d['value'])\n",
    "    except:\n",
    "        continue\n"
   ]
  },
  {
   "cell_type": "markdown",
   "metadata": {},
   "source": [
    "### 最後指定觀看的日期，查詢並列印出放映的電影院、放映類型(數位、3D、IMAX 3D...)、放映時間等資訊。"
   ]
  },
  {
   "cell_type": "code",
   "execution_count": 110,
   "metadata": {},
   "outputs": [],
   "source": [
    "# 選定要觀看的日期\n",
    "date = date_list[0]"
   ]
  },
  {
   "cell_type": "code",
   "execution_count": 137,
   "metadata": {},
   "outputs": [],
   "source": [
    "# 向網站發送請求，獲取上映的電影院及時間資訊\n",
    "url = \"https://movies.yahoo.com.tw/ajax/pc/get_schedule_by_movie\"\n",
    "payload = {'movie_id':movie_id,\n",
    "           'date':date,\n",
    "           'area_id':str(area_id),\n",
    "           'theater_id':'',\n",
    "           'datetime':'',\n",
    "           'movie_type_id':''}\n",
    "\n",
    "req = requests.get(url, params=payload)\n",
    "req.encoding = 'utf-8'\n",
    "# print(bytes(req.text.encode()).decode('unicode-escape'))\n",
    "cinema_list = []\n",
    "response = BeautifulSoup(req.json()['view'])\n",
    "for ul in response.find_all('ul', id=re.compile('theater_id_\\d+')):\n",
    "    cinema_list.append({'name':ul['data-theater_name'], 'schedules':[]})\n",
    "    inps = BeautifulSoup(str(ul)).find_all('input', attrs={'name':'schedule_list'})\n",
    "    for inp in inps:\n",
    "        cinema_list[-1]['schedules'].append({'類型':inp['data-movie_type'], '時間':inp['value']})"
   ]
  },
  {
   "cell_type": "code",
   "execution_count": 138,
   "metadata": {},
   "outputs": [
    {
     "name": "stdout",
     "output_type": "stream",
     "text": [
      "電影院：SBC星橋國際影城\n",
      "  數位 2019-12-14 10:00:00\n",
      "  數位 2019-12-14 14:30:00\n",
      "  數位 2019-12-14 19:05:00\n",
      "  數位 2019-12-14 21:25:00\n",
      "電影院：威尼斯影城\n",
      "  數位 2019-12-14 10:00:00\n",
      "  數位 2019-12-14 13:10:00\n",
      "  數位 2019-12-14 15:20:00\n",
      "  數位 2019-12-14 18:30:00\n",
      "  數位 2019-12-14 20:40:00\n",
      "  數位 2019-12-14 23:50:00\n",
      "  數位 2019-12-15 02:00:00\n",
      "電影院：桃園in89統領影城\n",
      "  數位 2019-12-14 20:30:00\n",
      "電影院：國賓影城(桃園八德廣豐新天地)\n",
      "  數位 2019-12-14 13:15:00\n",
      "  數位 2019-12-14 17:55:00\n",
      "  數位 2019-12-14 22:40:00\n",
      "電影院：桃園統領威秀影城\n",
      "  數位 2019-12-14 19:00:00\n",
      "  數位 2019-12-14 23:00:00\n"
     ]
    }
   ],
   "source": [
    "'''\n",
    "  試著從上一步驟回傳的電影院資料中，擷取電影院名稱、影片放映類型以及時間表\n",
    "'''\n",
    "for c in cinema_list:\n",
    "    print('電影院：%s' % c['name'])\n",
    "    for sch in c['schedules']:\n",
    "        print('  %s %s' % (sch['類型'], sch['時間']))"
   ]
  },
  {
   "cell_type": "code",
   "execution_count": null,
   "metadata": {},
   "outputs": [],
   "source": []
  }
 ],
 "metadata": {
  "kernelspec": {
   "display_name": "Python 3",
   "language": "python",
   "name": "python3"
  },
  "language_info": {
   "codemirror_mode": {
    "name": "ipython",
    "version": 3
   },
   "file_extension": ".py",
   "mimetype": "text/x-python",
   "name": "python",
   "nbconvert_exporter": "python",
   "pygments_lexer": "ipython3",
   "version": "3.6.9"
  }
 },
 "nbformat": 4,
 "nbformat_minor": 2
}
