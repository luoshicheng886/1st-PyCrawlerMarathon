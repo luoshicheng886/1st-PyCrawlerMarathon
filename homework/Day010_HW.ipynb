{
 "cells": [
  {
   "cell_type": "markdown",
   "metadata": {},
   "source": [
    "# 其他工具：Grab、PyQuery\n",
    "\n",
    "\n",
    "* 利用 Grab 套件的存取 HTML 資源\n",
    "* 利用 PyQuery 套件的解析 HTML 格式\n"
   ]
  },
  {
   "cell_type": "markdown",
   "metadata": {},
   "source": [
    "## 作業目標\n",
    "\n",
    "將之前用 requests + beatifulsoup 實作的方式，改寫成 grab + pyquery，並且比較有哪些地方不同。\n",
    "\n",
    "\n",
    "\n"
   ]
  },
  {
   "cell_type": "markdown",
   "metadata": {},
   "source": [
    "## requests + BeautifulSoup\n"
   ]
  },
  {
   "cell_type": "code",
   "execution_count": 1,
   "metadata": {
    "scrolled": false
   },
   "outputs": [
    {
     "name": "stdout",
     "output_type": "stream",
     "text": [
      "['Cgb5oo1', 'MgjHY4f', 'yeoRtAs', 'wsauNEW', 'IjiETcs']\n"
     ]
    }
   ],
   "source": [
    "import requests\n",
    "from bs4 import BeautifulSoup\n",
    "\n",
    "url = 'https://www.ptt.cc/bbs/Beauty/M.1556291059.A.75A.html'\n",
    "req = requests.get(url, cookies={'over18': '1'})\n",
    "response = BeautifulSoup(req.text)\n",
    "img_ids = []\n",
    "for div in response.find_all('div', attrs={'class':'richcontent'}):\n",
    "    img_ids.append(div.blockquote['data-id'])\n",
    "print(img_ids)"
   ]
  },
  {
   "cell_type": "markdown",
   "metadata": {},
   "source": [
    "## Grab + PyQuery"
   ]
  },
  {
   "cell_type": "code",
   "execution_count": 84,
   "metadata": {
    "scrolled": true
   },
   "outputs": [
    {
     "name": "stdout",
     "output_type": "stream",
     "text": [
      "<blockquote class=\"imgur-embed-pub\" lang=\"en\" data-id=\"Cgb5oo1\"><a href=\"//imgur.com/Cgb5oo1\"/></blockquote><blockquote class=\"imgur-embed-pub\" lang=\"en\" data-id=\"MgjHY4f\"><a href=\"//imgur.com/MgjHY4f\"/></blockquote><blockquote class=\"imgur-embed-pub\" lang=\"en\" data-id=\"yeoRtAs\"><a href=\"//imgur.com/yeoRtAs\"/></blockquote><blockquote class=\"imgur-embed-pub\" lang=\"en\" data-id=\"wsauNEW\"><a href=\"//imgur.com/wsauNEW\"/></blockquote><blockquote class=\"imgur-embed-pub\" lang=\"en\" data-id=\"IjiETcs\"><a href=\"//imgur.com/IjiETcs\"/></blockquote>\n"
     ]
    }
   ],
   "source": [
    "from grab import Grab\n",
    "from pyquery import PyQuery\n",
    "\n",
    "url = 'https://www.ptt.cc/bbs/Beauty/M.1556291059.A.75A.html'\n",
    "grab = Grab()\n",
    "grab.cookies.set(name='over18', value='1', domain='ptt.cc')\n",
    "req = grab.go(url)\n",
    "doc = PyQuery(req.body)\n",
    "lis = doc.find('blockquote')\n",
    "print(lis)"
   ]
  },
  {
   "cell_type": "code",
   "execution_count": null,
   "metadata": {},
   "outputs": [],
   "source": []
  }
 ],
 "metadata": {
  "kernelspec": {
   "display_name": "Python 3",
   "language": "python",
   "name": "python3"
  },
  "language_info": {
   "codemirror_mode": {
    "name": "ipython",
    "version": 3
   },
   "file_extension": ".py",
   "mimetype": "text/x-python",
   "name": "python",
   "nbconvert_exporter": "python",
   "pygments_lexer": "ipython3",
   "version": "3.6.9"
  }
 },
 "nbformat": 4,
 "nbformat_minor": 2
}
