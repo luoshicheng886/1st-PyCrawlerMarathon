{
 "cells": [
  {
   "cell_type": "markdown",
   "metadata": {},
   "source": [
    "# HTTP 動態網頁架構說明\n",
    "\n",
    "\n",
    "* 了解動態網頁的資料爬蟲策略\n",
    "* 知道非同步網頁載入機制（Ajax）\n",
    "* 學習兩種對應動態網頁爬蟲的的策略\n"
   ]
  },
  {
   "cell_type": "markdown",
   "metadata": {},
   "source": [
    "## 作業目標\n",
    "\n",
    "回答以下問題：\n",
    "\n",
    "1. 動態網頁跟靜態網頁的差別是什麼？原本靜態網頁的做法會產生什麼問題或是缺點？\n",
    "2. 還記得我們在 ETTODAY 靜態爬蟲實作練習中，有請大家完成一個題目「取出今天所有的發文」，但仔細看其實並沒有真的把當天所有的新聞都抓回來， 試著回答看看原因是什麼？及該如何檢查？\n"
   ]
  },
  {
   "cell_type": "markdown",
   "metadata": {},
   "source": [
    "### 1. 動態網頁跟靜態網頁的差別是什麼？原本靜態網頁的做法會產生什麼問題或是缺點？"
   ]
  },
  {
   "cell_type": "code",
   "execution_count": null,
   "metadata": {},
   "outputs": [],
   "source": [
    "1. 在靜態網頁中，每當有資料變動時，網頁都必須全部更新；動態網頁則只須更新與資料有關的部份。\n",
    "2. 在靜態網頁中，無法以parsing標籤的方式獲取我們需要的資料。"
   ]
  },
  {
   "cell_type": "markdown",
   "metadata": {},
   "source": [
    "### 2. 還記得我們在 ETTODAY 靜態爬蟲實作練習中，有請大家完成一個題目「取出今天所有的發文」，但仔細看其實並沒有真的把當天所有的新聞都抓回來， 試著回答看看原因是什麼？及該如何檢查？"
   ]
  },
  {
   "cell_type": "code",
   "execution_count": 64,
   "metadata": {},
   "outputs": [
    {
     "data": {
      "text/plain": [
       "{'政治': [{'n_time': '2019/12/20 14:17',\n",
       "   'n_desc': '台中第一所原住民實驗中學課程揭牌\\u3000盧秀燕：總預算4成花在教育',\n",
       "   'n_link': 'https://www.ettoday.net/news/20191220/1606538.htm'},\n",
       "  {'n_time': '2019/12/20 14:06',\n",
       "   'n_desc': '大選激化！雲林民進黨議員收詛咒信\\u3000「你肺癌、你全家都肺癌」',\n",
       "   'n_link': 'https://www.ettoday.net/news/20191220/1606493.htm'}],\n",
       " '財經': [],\n",
       " '論壇': [],\n",
       " '國際': [],\n",
       " '大陸': [],\n",
       " '社會': [],\n",
       " '地方': [],\n",
       " '新奇': [],\n",
       " '生活': [],\n",
       " '寵物動物': [{'n_time': '2019/12/20 14:13',\n",
       "   'n_desc': '鏟屎官救星！19KG高效除臭礦砂在此\\u3000多貓核彈「屎炸」也不怕\\u3000美式賣場折價110元',\n",
       "   'n_link': 'https://www.ettoday.net/news/20191220/1601474.htm'}],\n",
       " '影劇': [{'n_time': '2019/12/20 14:15',\n",
       "   'n_desc': '廖科溢錄外景撞見婚禮\\u3000秒變「婚禮攝影」沾喜氣',\n",
       "   'n_link': 'https://www.ettoday.net/news/20191220/1606469.htm'},\n",
       "  {'n_time': '2019/12/20 14:14',\n",
       "   'n_desc': '《葉問4》限定場賣破300萬\\u3000甄子丹最後一次「打木人樁」逼哭鐵粉',\n",
       "   'n_link': 'https://www.ettoday.net/news/20191220/1606559.htm'}],\n",
       " '體育': [{'n_time': '2019/12/20 14:12',\n",
       "   'n_desc': 'ABL／林志傑受傷空缺誰來頂？\\u3000富邦勇士還沒有決定',\n",
       "   'n_link': 'https://www.ettoday.net/news/20191220/1606560.htm'}],\n",
       " '旅遊': [{'n_time': '2019/12/20 14:16',\n",
       "   'n_desc': '芭達雅另類玩法！「千萬遊艇出海」拍時尚照  唱KTV、美食吃到飽',\n",
       "   'n_link': 'https://www.ettoday.net/news/20191220/1606539.htm'}],\n",
       " '消費': [],\n",
       " '名家': [],\n",
       " 'ET來了': [],\n",
       " '3C家電': [{'n_time': '2019/12/20 14:12',\n",
       "   'n_desc': '臉書正在開發自家作業系統\\u3000發豪語「未來將能完全擺脫對Andriod的依賴」',\n",
       "   'n_link': 'https://www.ettoday.net/news/20191220/1606329.htm'}],\n",
       " '健康': [],\n",
       " '男女': [],\n",
       " '公益': [],\n",
       " '遊戲': [],\n",
       " '電影': [],\n",
       " '時尚': [{'n_time': '2019/12/20 14:10',\n",
       "   'n_desc': '「凍齡女神」妮可基嫚突然變老！網：飄阿嬤味\\u3000妝髮兩大問題超慘',\n",
       "   'n_link': 'https://www.ettoday.net/news/20191220/1605880.htm'}],\n",
       " '網搜': [],\n",
       " '電商': [],\n",
       " '親子': [],\n",
       " '房產雲': [],\n",
       " 'ET車雲': [{'n_time': '2019/12/20 14:05',\n",
       "   'n_desc': '35年熱銷終成絕響！YAMAHA推出「SEROW 250 Final Edition」',\n",
       "   'n_link': 'https://www.ettoday.net/news/20191220/1606451.htm'}],\n",
       " '軍武': [],\n",
       " '保險': [],\n",
       " '法律': [],\n",
       " '直銷雲': [],\n",
       " '探索': [],\n",
       " '電競': []}"
      ]
     },
     "execution_count": 64,
     "metadata": {},
     "output_type": "execute_result"
    }
   ],
   "source": [
    "import requests\n",
    "from bs4 import BeautifulSoup\n",
    "\n",
    "req = requests.get('https://www.ettoday.net/news/news-list.htm')\n",
    "response = BeautifulSoup(req.text)\n",
    "cat_list = []\n",
    "for li in response.find('div', class_='part_menu_2').find_all('li'):\n",
    "    if li.text != '|':\n",
    "        cat_list.append(li.text)\n",
    "# 模擬封包的標頭\n",
    "headers = {'authority': 'www.ettoday.net',\n",
    "           'method': 'POST',\n",
    "           'path': '/show_roll.php',\n",
    "           'scheme': 'https',\n",
    "           'accept': '*/*',\n",
    "           'accept-encoding': 'gzip, deflate, br',\n",
    "           'content-length': '56',\n",
    "           'content-type': 'application/x-www-form-urlencoded; charset=UTF-8',\n",
    "           'accept-language': 'zh-TW,zh;q=0.9,en-US;q=0.8,en;q=0.7,zh-CN;q=0.6',\n",
    "           'cookie': 'et_token=98bd01d2e66ec20e339a4d64022894c4; check_pc_mobile=pc; _ga=GA1.2.794349579.1576233576; __auc=062d765616efed7a976cd076043; __gads=ID=3e00fef8be456835:T=1576233577:S=ALNI_MZMhblsyeICGMY96Hk9vIyM2ZiNjw; dable_uid=17320488.1576127568145; oid=%257B%2522oid%2522%253A%252202484fff-1c9e-11ea-9970-0242ac120003%2522%252C%2522ts%2522%253A1576127555%252C%2522v%2522%253A%25221.0%2522%257D; _huid=455ecc0b-4f32-4611-be64-13589af4104f; adid=455ecc0b-4f32-4611-be64-13589af4104f; webpush=1; et_tag=nMAF; dcs_local_cid=cyeg7k96n1; truvid_protected={\"fraud\":false,\"level\":2,\"geo\":\"TW\"}; et_client_country=TW; crazyAdToday_1=9; _gid=GA1.2.1818069892.1576823538; __asc=a09ea3cc16f2201c34a7a743842; crazyAdToday_4=0; adC02-63117=1; adC02-63117-expire=Fri%20Dec%2020%202019%2016%3A32%3A19%20GMT%2B0800%20(Taipei%20Standard%20Time); crazyAdToday_6=2; _ht_hi=1; _ht_em=1; GED_PLAYLIST_ACTIVITY=W3sidSI6InRnZ3ciLCJ0c2wiOjE1NzY4MjM2NTksIm52IjoxLCJ1cHQiOjE1NzY4MjM1MzYsImx0IjoxNTc2ODIzNjU5fV0.',\n",
    "           'origin': 'https://www.ettoday.net',\n",
    "           'referer': 'https://www.ettoday.net/news/news-list.htm',\n",
    "           'sec-fetch-mode': 'cors',\n",
    "           'sec-fetch-site': 'same-origin',\n",
    "           'user-agent': 'Mozilla/5.0 (X11; Linux x86_64) AppleWebKit/537.36 (KHTML, like Gecko) snap Chromium/79.0.3945.79 Chrome/79.0.3945.79 Safari/537.36',\n",
    "           'x-requested-with': 'XMLHttpRequest'}\n",
    "#\n",
    "# 模擬表格欄位資料，循環送出 offset(>1)，即可獲得所有發文\n",
    "#\n",
    "data = {'offset': \"3\",\n",
    "        'tPage': \"3\",\n",
    "        'tFile': \"20191220.xml\",\n",
    "        'tOt': \"0\",\n",
    "        'tSi': \"100\",\n",
    "        'tAr': \"0\"}\n",
    "\n",
    "req = requests.post('https://www.ettoday.net/show_roll.php', headers=headers, data=data)\n",
    "response = BeautifulSoup(req.text)\n",
    "# Create a empty dictionary to save news entries.\n",
    "news_dict = {}\n",
    "for i in  range(1, len(cat_list)):\n",
    "    news_dict[cat_list[i]] = []\n",
    "# Insert each news entry to the dictionary.\n",
    "for h3 in response.find_all('h3'):\n",
    "    news = dict(n_time=h3.span.text, n_desc=h3.a.text, n_link='https://www.ettoday.net' + h3.a['href'])\n",
    "    news_dict[h3.em.text].append(news)\n",
    "news_dict"
   ]
  },
  {
   "cell_type": "code",
   "execution_count": null,
   "metadata": {},
   "outputs": [],
   "source": []
  },
  {
   "cell_type": "code",
   "execution_count": null,
   "metadata": {},
   "outputs": [],
   "source": []
  }
 ],
 "metadata": {
  "kernelspec": {
   "display_name": "Python 3",
   "language": "python",
   "name": "python3"
  },
  "language_info": {
   "codemirror_mode": {
    "name": "ipython",
    "version": 3
   },
   "file_extension": ".py",
   "mimetype": "text/x-python",
   "name": "python",
   "nbconvert_exporter": "python",
   "pygments_lexer": "ipython3",
   "version": "3.6.9"
  }
 },
 "nbformat": 4,
 "nbformat_minor": 2
}
