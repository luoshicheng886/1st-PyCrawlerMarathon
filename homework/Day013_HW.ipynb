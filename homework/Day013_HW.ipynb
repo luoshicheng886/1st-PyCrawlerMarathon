{
 "cells": [
  {
   "cell_type": "markdown",
   "metadata": {},
   "source": [
    "# PTT 網路爬蟲實作練習\n",
    "\n",
    "\n",
    "* 能夠利用 Request + BeatifulSour 撰寫爬蟲，並存放到合適的資料結構\n"
   ]
  },
  {
   "cell_type": "markdown",
   "metadata": {},
   "source": [
    "## 作業目標\n",
    "\n",
    "根據範例 ，完成以下問題：\n",
    "\n",
    "* ① 印出最新文章的「作者」「標題」「時間」\n",
    "* ② 印出第一頁所有文章的「作者」「標題」「時間」\n"
   ]
  },
  {
   "cell_type": "markdown",
   "metadata": {},
   "source": [
    "### ① 印出最新文章的「作者」「標題」「時間」"
   ]
  },
  {
   "cell_type": "code",
   "execution_count": 20,
   "metadata": {},
   "outputs": [
    {
     "name": "stdout",
     "output_type": "stream",
     "text": [
      "作者：pneumo (超☆冒險蓋)\n",
      "標題：[花邊] 可愛花了672.5萬鎂買了Staples對面的閣樓\n",
      "時間：Fri Dec 13 17:35:56 2019\n"
     ]
    }
   ],
   "source": [
    "import requests\n",
    "from bs4 import BeautifulSoup\n",
    "\n",
    "req = requests.get('https://www.ptt.cc/bbs/NBA/index.html')\n",
    "response = BeautifulSoup(req.text)\n",
    "href_list = []\n",
    "for t in response.find_all('div', class_='title'):\n",
    "    try:\n",
    "#         print(t.a['href'], t.a.text)\n",
    "        href_list.append('https://www.ptt.cc' + t.a['href'])\n",
    "    except:\n",
    "        continue\n",
    "req = requests.get(href_list[0])\n",
    "response = BeautifulSoup(req.text)\n",
    "t_list = []\n",
    "for t in response.find_all('span', class_='article-meta-tag'):\n",
    "    t_list.append(t.text)\n",
    "v_list = []\n",
    "for v in response.find_all('span', class_='article-meta-value'):\n",
    "    v_list.append(v.text)\n",
    "tag_dict = {}\n",
    "for i in range(len(t_list)):\n",
    "    tag_dict[t_list[i]] = v_list[i]\n",
    "print('作者：%s' % tag_dict['作者'])\n",
    "print('標題：%s' % tag_dict['標題'])\n",
    "print('時間：%s' % tag_dict['時間'])"
   ]
  },
  {
   "cell_type": "markdown",
   "metadata": {},
   "source": [
    "### ② 印出第一頁所有文章的「作者」「標題」「時間」"
   ]
  },
  {
   "cell_type": "code",
   "execution_count": 24,
   "metadata": {},
   "outputs": [
    {
     "name": "stdout",
     "output_type": "stream",
     "text": [
      "1.\n",
      "  作者：pneumo (超☆冒險蓋)\n",
      "  標題：[花邊] 可愛花了672.5萬鎂買了Staples對面的閣樓\n",
      "  時間：Fri Dec 13 17:35:56 2019\n",
      "2.\n",
      "  作者：thnlkj0665 (灰色地帶)\n",
      "  標題：[花邊] 詹皇將滿35歲仍不見下滑 熱火主帥讚找到不老之泉\n",
      "  時間：Fri Dec 13 18:06:56 2019\n",
      "3.\n",
      "  作者：fukawa947 (交大薛之謙)\n",
      "  標題：[新聞] 回到最初的起點？　甜瓜坦承一度願意重\n",
      "  時間：Fri Dec 13 18:49:07 2019\n",
      "4.\n",
      "  作者：ilanese (坐聽無弦曲)\n",
      "  標題：Re: [新聞] 遭質疑詐傷 籃網總管：不會逼厄文復出\n",
      "  時間：Fri Dec 13 20:42:02 2019\n",
      "5.\n",
      "  作者：NSYSUheng (Pain)\n",
      "  標題：[情報] Pippen：灰狼的隊友不喜歡Butler，因為他\n",
      "  時間：Fri Dec 13 21:04:50 2019\n",
      "6.\n",
      "  作者：hvariables (Speculative Male)\n",
      "  標題：[專欄] 甜瓜依舊甜 安東尼如何找回生涯第二春？\n",
      "  時間：Fri Dec 13 23:33:30 2019\n",
      "7.\n",
      "  作者：Gotham (萬惡之城)\n",
      "  標題：[新聞] 轉戰KBL聯賽 歐卡福加盟蔚山現代太陽神\n",
      "  時間：Fri Dec 13 23:59:18 2019\n",
      "8.\n",
      "  作者：Vedan (味丹)\n",
      "  標題：[公告] 樂透取消及未來不再開啟樂透\n",
      "  時間：Mon Jun 24 15:08:02 2019\n",
      "9.\n",
      "  作者：qazwsx879345 (Rajon Rondo)\n",
      "  標題：[公告] 版主上任相關事項\n",
      "  時間：Fri Oct 25 10:44:03 2019\n",
      "10.\n",
      "  作者：JerroLi (銀色小刀)\n",
      "  標題：[情報] SEASON Schedule 賽程 December 19–20\n",
      "  時間：Fri Nov 29 00:46:01 2019\n",
      "11.\n",
      "  作者：dragon803 (好想去露營啊~)\n",
      "  標題：[公告]是否禁止basketball top 5文章投票開始\n",
      "  時間：Sun Dec  8 23:55:00 2019\n"
     ]
    }
   ],
   "source": [
    "n = 1\n",
    "for href in href_list:\n",
    "    req = requests.get(href)\n",
    "    response = BeautifulSoup(req.text)\n",
    "    t_list = []\n",
    "    for t in response.find_all('span', class_='article-meta-tag'):\n",
    "        t_list.append(t.text)\n",
    "    if len(t_list) == 0:\n",
    "        continue\n",
    "    v_list = []\n",
    "    for v in response.find_all('span', class_='article-meta-value'):\n",
    "        v_list.append(v.text)\n",
    "    tag_dict = {}\n",
    "    for i in range(len(t_list)):\n",
    "        tag_dict[t_list[i]] = v_list[i]\n",
    "    print('%d.' % n)\n",
    "    print('  作者：%s' % tag_dict['作者'])\n",
    "    print('  標題：%s' % tag_dict['標題'])\n",
    "    print('  時間：%s' % tag_dict['時間'])\n",
    "    n += 1"
   ]
  },
  {
   "cell_type": "markdown",
   "metadata": {},
   "source": [
    "### ③ 試著爬爬看其他版的文章"
   ]
  },
  {
   "cell_type": "code",
   "execution_count": 27,
   "metadata": {},
   "outputs": [
    {
     "name": "stdout",
     "output_type": "stream",
     "text": [
      "作者：andy880036s (築牆是一種態度)\n",
      "標題：[新聞] 追隨爸爸林琨瀚　林桀晨選53號有原因\n",
      "時間：Fri Dec 13 22:09:50 2019\n"
     ]
    }
   ],
   "source": [
    "# Baseball\n",
    "req = requests.get('https://www.ptt.cc/bbs/Baseball/index.html')\n",
    "response = BeautifulSoup(req.text)\n",
    "href_list = []\n",
    "for t in response.find_all('div', class_='title'):\n",
    "    try:\n",
    "#         print(t.a['href'], t.a.text)\n",
    "        href_list.append('https://www.ptt.cc' + t.a['href'])\n",
    "    except:\n",
    "        continue\n",
    "req = requests.get(href_list[0])\n",
    "response = BeautifulSoup(req.text)\n",
    "t_list = []\n",
    "for t in response.find_all('span', class_='article-meta-tag'):\n",
    "    t_list.append(t.text)\n",
    "v_list = []\n",
    "for v in response.find_all('span', class_='article-meta-value'):\n",
    "    v_list.append(v.text)\n",
    "tag_dict = {}\n",
    "for i in range(len(t_list)):\n",
    "    tag_dict[t_list[i]] = v_list[i]\n",
    "print('作者：%s' % tag_dict['作者'])\n",
    "print('標題：%s' % tag_dict['標題'])\n",
    "print('時間：%s' % tag_dict['時間'])"
   ]
  },
  {
   "cell_type": "code",
   "execution_count": null,
   "metadata": {},
   "outputs": [],
   "source": []
  }
 ],
 "metadata": {
  "kernelspec": {
   "display_name": "Python 3",
   "language": "python",
   "name": "python3"
  },
  "language_info": {
   "codemirror_mode": {
    "name": "ipython",
    "version": 3
   },
   "file_extension": ".py",
   "mimetype": "text/x-python",
   "name": "python",
   "nbconvert_exporter": "python",
   "pygments_lexer": "ipython3",
   "version": "3.6.9"
  }
 },
 "nbformat": 4,
 "nbformat_minor": 2
}
