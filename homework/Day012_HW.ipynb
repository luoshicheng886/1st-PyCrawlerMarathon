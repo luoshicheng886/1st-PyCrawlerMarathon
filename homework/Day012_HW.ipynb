{
 "cells": [
  {
   "cell_type": "markdown",
   "metadata": {},
   "source": [
    "# Ettoday 網路爬蟲實作練習\n",
    "\n",
    "\n",
    "* 能夠利用 Request + BeatifulSour 撰寫爬蟲，並存放到合適的資料結構\n"
   ]
  },
  {
   "cell_type": "markdown",
   "metadata": {},
   "source": [
    "## 作業目標\n",
    "\n",
    "根據範例 ，完成以下問題：\n",
    "\n",
    "* ① 取出今天所有的發文\n",
    "* ② 如果想要依照類別分類，怎麼儲存會比較好？\n",
    "* ③ 哪一個類別的文章最多\n",
    "\n",
    "\n"
   ]
  },
  {
   "cell_type": "markdown",
   "metadata": {},
   "source": [
    "### ① 取出今天所有的發文"
   ]
  },
  {
   "cell_type": "code",
   "execution_count": 1,
   "metadata": {
    "scrolled": true
   },
   "outputs": [
    {
     "name": "stdout",
     "output_type": "stream",
     "text": [
      "['總覽', '政治', '財經', '論壇', '國際', '大陸', '社會', '地方', '新奇', '生活', '寵物動物', '影劇', '體育', '旅遊', '消費', '名家', 'ET來了', '3C家電', '健康', '男女', '公益', '遊戲', '電影', '時尚', '網搜', '電商', '親子', '房產雲', 'ET車雲', '軍武', '保險', '法律', '直銷雲', '探索', '電競']\n"
     ]
    }
   ],
   "source": [
    "import requests\n",
    "from bs4 import BeautifulSoup\n",
    "\n",
    "req = requests.get('https://www.ettoday.net/news/news-list.htm')\n",
    "response = BeautifulSoup(req.text)\n",
    "cat_list = []\n",
    "for li in response.find('div', class_='part_menu_2').find_all('li'):\n",
    "    if li.text != '|':\n",
    "        cat_list.append(li.text)\n",
    "print(cat_list)"
   ]
  },
  {
   "cell_type": "markdown",
   "metadata": {},
   "source": [
    "### ② 如果想要依照類別分類，怎麼儲存會比較好？"
   ]
  },
  {
   "cell_type": "code",
   "execution_count": 3,
   "metadata": {
    "scrolled": false
   },
   "outputs": [
    {
     "name": "stdout",
     "output_type": "stream",
     "text": [
      "[{'n_time': '2019/12/13 22:52', 'n_desc': '北上替洪孟楷撐腰\\u3000洪秀柱：「楊蕙如們」暗處帶民調風向', 'n_link': 'https://www.ettoday.net/news/20191213/1601461.htm'}, {'n_time': '2019/12/13 22:14', 'n_desc': '韓國瑜台中競選總部成立\\u3000盧秀燕批執政黨「不把中部人看在眼裡」', 'n_link': 'https://www.ettoday.net/news/20191213/1601639.htm'}, {'n_time': '2019/12/13 21:55', 'n_desc': '立院三讀《律師法》\\u3000杜絕貪污司法官轉任律師', 'n_link': 'https://www.ettoday.net/news/20191213/1601713.htm'}, {'n_time': '2019/12/13 21:41', 'n_desc': '蔡英文學「支持③手部健康操」秒放槍狂笑！\\u3000鍾明軒無奈：總統？Hello？', 'n_link': 'https://www.ettoday.net/news/20191213/1601705.htm'}, {'n_time': '2019/12/13 21:09', 'n_desc': '影／台中競選總部成立\\u3000韓國瑜批民進黨「3個欺騙」對不起台灣人', 'n_link': 'https://www.ettoday.net/news/20191213/1601689.htm'}, {'n_time': '2019/12/13 20:36', 'n_desc': '「回家辣一下！」民進黨再推募款小物\\u3000盼英粉穿「護台戰鬥服」返鄉投票', 'n_link': 'https://www.ettoday.net/news/20191213/1601681.htm'}, {'n_time': '2019/12/13 20:23', 'n_desc': '宋楚瑜轟「沒親民黨你能連任？」\\u3000柯P：我和陳佩琪偶而也會吵架', 'n_link': 'https://www.ettoday.net/news/20191213/1601680.htm'}, {'n_time': '2019/12/13 20:18', 'n_desc': '高雄3大夜市主委讚夜市券「業績漲2成」！陳其邁「沒在瘦身」揪：等你喔~', 'n_link': 'https://www.ettoday.net/news/20191213/1601556.htm'}, {'n_time': '2019/12/13 20:15', 'n_desc': '快用夜市券！陳其邁揪網紅逛夜市狂吃7攤、唱《ICE 你》超樂大喊「再一次！」', 'n_link': 'https://www.ettoday.net/news/20191213/1601543.htm'}, {'n_time': '2019/12/13 20:14', 'n_desc': '高雄人對不起台灣？\\u3000柯文哲：天啊！選舉失利竟要人民反省', 'n_link': 'https://www.ettoday.net/news/20191213/1601675.htm'}, {'n_time': '2019/12/13 20:13', 'n_desc': '遭爆替遠航「喬事」\\u3000鄭寶清聲明：僅處理對方陳情', 'n_link': 'https://www.ettoday.net/news/20191213/1601672.htm'}, {'n_time': '2019/12/13 20:05', 'n_desc': '遭爆替遠東航空喬事情\\u3000立委鄭寶清臉書澄清：僅協助陳情', 'n_link': 'https://www.ettoday.net/news/20191213/1601669.htm'}, {'n_time': '2019/12/13 19:38', 'n_desc': '李四川「2600名臨時人員拖垮預算」\\u3000陳菊：任內只剩400人\\u3000\\u3000', 'n_link': 'https://www.ettoday.net/news/20191213/1601636.htm'}]\n"
     ]
    }
   ],
   "source": [
    "# Create a empty dictionary to save news entries.\n",
    "news_dict = {}\n",
    "for i in  range(1, len(cat_list)):\n",
    "    news_dict[cat_list[i]] = []\n",
    "# Insert each news entry to the dictionary.\n",
    "for h3 in response.find('div', class_='part_list_2').find_all('h3'):\n",
    "    news = dict(n_time=h3.span.text, n_desc=h3.a.text, n_link='https://www.ettoday.net' + h3.a['href'])\n",
    "    news_dict[h3.em.text].append(news)\n",
    "print(news_dict['政治'])"
   ]
  },
  {
   "cell_type": "markdown",
   "metadata": {},
   "source": [
    "### ③ 哪一個類別的文章最多"
   ]
  },
  {
   "cell_type": "code",
   "execution_count": 9,
   "metadata": {
    "scrolled": false
   },
   "outputs": [
    {
     "name": "stdout",
     "output_type": "stream",
     "text": [
      "政治 13  財經 2  論壇 0  國際 5  大陸 2  社會 7  地方 6  新奇 0  生活 6  寵物動物 3  影劇 18  體育 14  旅遊 1  消費 0  名家 0  ET來了 0  3C家電 0  健康 6  男女 0  公益 0  遊戲 1  電影 0  時尚 6  網搜 4  電商 0  親子 1  房產雲 2  ET車雲 1  軍武 1  保險 0  法律 0  直銷雲 0  探索 0  電競 1  \n",
      "[影劇]類文章最多共 18 筆\n"
     ]
    }
   ],
   "source": [
    "most_e = 0\n",
    "most_cat = ''\n",
    "for cat in news_dict:\n",
    "    print(cat, len(news_dict[cat]), ' ', end='')\n",
    "    if len(news_dict[cat]) > most_e:\n",
    "        most_e = len(news_dict[cat])\n",
    "        most_cat = cat\n",
    "print('\\n[%s]類文章最多共 %d 筆' % (most_cat, most_e))"
   ]
  },
  {
   "cell_type": "code",
   "execution_count": null,
   "metadata": {},
   "outputs": [],
   "source": []
  },
  {
   "cell_type": "code",
   "execution_count": null,
   "metadata": {},
   "outputs": [],
   "source": []
  },
  {
   "cell_type": "code",
   "execution_count": null,
   "metadata": {},
   "outputs": [],
   "source": []
  }
 ],
 "metadata": {
  "kernelspec": {
   "display_name": "Python 3",
   "language": "python",
   "name": "python3"
  },
  "language_info": {
   "codemirror_mode": {
    "name": "ipython",
    "version": 3
   },
   "file_extension": ".py",
   "mimetype": "text/x-python",
   "name": "python",
   "nbconvert_exporter": "python",
   "pygments_lexer": "ipython3",
   "version": "3.6.9"
  }
 },
 "nbformat": 4,
 "nbformat_minor": 2
}
